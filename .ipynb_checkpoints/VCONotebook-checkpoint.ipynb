{
 "cells": [
  {
   "cell_type": "markdown",
   "id": "8b627c61-91e2-4097-a79e-19e13277c029",
   "metadata": {
    "tags": []
   },
   "source": [
    "# 2.4GHz LC-VCO in SKY130\n",
    "#### By Ryan Wans for ISSCC's 2023 Notebook Competition \n",
    "---\n",
    "## Table of Contents\n",
    "1. About The Project\n",
    "2. Inductor Derivation\n",
    "---\n",
    "## About The Project\n",
    "![LC-VCO Schematic](./assets/lcvco_diagram.svg)<br>\n",
    "  \n",
    "The LC-VCO, as stated in the name, relies on a LC tank circuit that resonates at a target center frequency. The parallel inductor and capacitor will resonate at a frequency dependent on their values, but they also have parasitic resistances associated with them. This resistance, most prominently present in the inductor, causes any produced frequency to quickly diminish, defeating the purpose of the oscillator. In order to counteract this effect, we can include a second resistor in parallel with the RLC tank that creates an equal negative resistance to the parasitics faced. However, negative resistance can't really be created. We can, however, use a cross-coupled pair (XCP) circuit, which creates a negative transconductance looking into the circuit, to realize the negative resistance.\n",
    "\n",
    "## Inductor Derivation\n",
    "ASITIC was used to realize the planar inductors needed to create the LC tank. ASITIC provides an excellent tool for optimizing inductor layouts based off of Q-factor and inductance for given size parameters. "
   ]
  },
  {
   "cell_type": "code",
   "execution_count": null,
   "id": "04f9fa70-7d7d-4d4b-a0cd-bc7ee369a6be",
   "metadata": {},
   "outputs": [],
   "source": []
  }
 ],
 "metadata": {
  "kernelspec": {
   "display_name": "Python 3 (ipykernel)",
   "language": "python",
   "name": "python3"
  },
  "language_info": {
   "codemirror_mode": {
    "name": "ipython",
    "version": 3
   },
   "file_extension": ".py",
   "mimetype": "text/x-python",
   "name": "python",
   "nbconvert_exporter": "python",
   "pygments_lexer": "ipython3",
   "version": "3.10.6"
  }
 },
 "nbformat": 4,
 "nbformat_minor": 5
}
