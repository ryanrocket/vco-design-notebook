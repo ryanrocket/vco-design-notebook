{
 "cells": [
  {
   "cell_type": "markdown",
   "id": "8b627c61-91e2-4097-a79e-19e13277c029",
   "metadata": {
    "tags": []
   },
   "source": [
    "# 2.4GHz LC-VCO in SKY130\n",
    "#### By Ryan Wans for ISSCC's 2023 Notebook Competition \n",
    "---\n",
    "## Table of Contents\n",
    "1. About The Project\n",
    "2. Design Parameters\n",
    "3. Inductor Derivation\n",
    "---\n",
    "## About The Project\n",
    "![LC-VCO Schematic](./assets/lcvco_diagram.svg)<br>\n",
    "*Basic Schematic of LC-VCO*\n",
    "  \n",
    "The LC-VCO, as stated in the name, relies on a LC tank circuit that resonates at a target center frequency. The parallel inductor and capacitor will resonate at a frequency dependent on their values, but they also have parasitic resistances associated with them. This resistance, most prominently present in the inductor, causes any produced frequency to quickly diminish, defeating the purpose of the oscillator. In order to counteract this effect, we can include a second resistor in parallel with the RLC tank that creates an equal negative resistance to the parasitics faced. However, negative resistance can't really be created. We can, however, use a cross-coupled pair (XCP) circuit, which creates a negative transconductance looking into the circuit, to realize the negative resistance.\n",
    "\n",
    "## Design Parameters\n",
    "The target frequency for this VCO is 2.4GHz. This frequency was decided upon because of its extensive usage between IoT, BLE, WiFi, and more. In future revisions, a 20GHz and 40GHz implentation are also planned. The equation below describes the ideal relationship between the LC tank values and it's resonant frequency. \n",
    "$$\\omega=\\frac{1}{\\sqrt{LC}}$$\n",
    "For this oscillator, an inductance value of 2nH was chosen, primarily for it's size and potential for a high Q-factor. Using ther above equation, an ideal capacitance of 2.2pF is derived. \n",
    "\n",
    "## Inductor Derivation\n",
    "ASITIC was used to realize the planar inductors needed to create the LC tank. ASITIC provides an excellent tool for optimizing inductor layouts based off of Q-factor and inductance for given size parameters. Because ASITIC does not natively support DRC rules, sqaure inductors are used to keep it DRC clean for SKY130. The 2nH inductor was derived in ASITIC using the following:\n",
    "```\n",
    "ASITIC> optsymsq\n",
    "\n",
    "Desired inductance and percent error? 2 0.5\n",
    "\n",
    "Name? 2nhInductor\n",
    "\n",
    "Length? 250\n",
    "\n",
    "Min/Step/Max Spacing? 2 0.2 5\n",
    "\n",
    "Min/Step/Max Width? 10 0.2 30\n",
    "\n",
    "Metal layer? met5\n",
    "\n",
    "Exit metal layer? met4\n",
    "\n",
    "Frequency? (GHz) 2.4G\n",
    "\n",
    "```\n",
    "ASITIC produced an inductor with the following parameters:\n",
    "```\n",
    "\n",
    "```\n",
    "You can then export the CIF file (layout), which KLayout can import and convert to GDS\n",
    "```\n",
    "cif ../exports/2nhInductor.cif 2nhInductor\n",
    "```\n",
    "\n",
    "## Varactor Calculations\n",
    "\n",
    "## MOSFET Characterization\n",
    "\n",
    "## VCO Core Design\n",
    "\n",
    "## Layout"
   ]
  },
  {
   "cell_type": "code",
   "execution_count": null,
   "id": "cd8da0fd-6434-4ca2-b20b-d1297dc4234f",
   "metadata": {},
   "outputs": [],
   "source": []
  }
 ],
 "metadata": {
  "kernelspec": {
   "display_name": "Python 3 (ipykernel)",
   "language": "python",
   "name": "python3"
  },
  "language_info": {
   "codemirror_mode": {
    "name": "ipython",
    "version": 3
   },
   "file_extension": ".py",
   "mimetype": "text/x-python",
   "name": "python",
   "nbconvert_exporter": "python",
   "pygments_lexer": "ipython3",
   "version": "3.10.6"
  }
 },
 "nbformat": 4,
 "nbformat_minor": 5
}
